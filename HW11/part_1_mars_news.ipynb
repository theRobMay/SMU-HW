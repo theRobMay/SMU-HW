{
 "cells": [
  {
   "cell_type": "markdown",
   "metadata": {},
   "source": [
    "# Module 12 Challenge\n",
    "## Deliverable 1: Scrape Titles and Preview Text from Mars News"
   ]
  },
  {
   "cell_type": "code",
   "execution_count": 1,
   "metadata": {
    "ExecuteTime": {
     "start_time": "2023-07-12T23:38:39.227967Z",
     "end_time": "2023-07-12T23:38:40.250402Z"
    }
   },
   "outputs": [],
   "source": [
    "# Import Splinter and BeautifulSoup\n",
    "from splinter import Browser\n",
    "from bs4 import BeautifulSoup\n",
    "import pandas as pd\n",
    "import numpy as np\n",
    "import time\n",
    "import matplotlib.pyplot as plt\n",
    "\n",
    "from webdriver_manager.chrome import ChromeDriverManager"
   ]
  },
  {
   "cell_type": "code",
   "execution_count": 2,
   "metadata": {
    "scrolled": true,
    "ExecuteTime": {
     "start_time": "2023-07-12T23:38:41.598064Z",
     "end_time": "2023-07-12T23:38:43.694885Z"
    }
   },
   "outputs": [
    {
     "name": "stderr",
     "output_type": "stream",
     "text": [
      "[WDM] - Downloading: 100%|██████████| 6.30M/6.30M [00:00<00:00, 26.3MB/s]\n"
     ]
    }
   ],
   "source": [
    " # Set up Splinter\n",
    "executable_path = {'executable_path': ChromeDriverManager().install()}\n",
    "browser = Browser('chrome', **executable_path, headless=False)"
   ]
  },
  {
   "cell_type": "markdown",
   "metadata": {},
   "source": [
    "### Step 1: Visit the Website\n",
    "\n",
    "1. Use automated browsing to visit the [Mars news site](https://static.bc-edx.com/data/web/mars_news/index.html). Inspect the page to identify which elements to scrape.\n",
    "\n",
    "      > **Hint** To identify which elements to scrape, you might want to inspect the page by using Chrome DevTools."
   ]
  },
  {
   "cell_type": "code",
   "execution_count": 3,
   "metadata": {
    "ExecuteTime": {
     "start_time": "2023-07-12T23:38:52.713812Z",
     "end_time": "2023-07-12T23:38:54.157773Z"
    }
   },
   "outputs": [],
   "source": [
    "# Visit the Mars news site\n",
    "url = 'https://static.bc-edx.com/data/web/mars_news/index.html'\n",
    "browser.visit(url)"
   ]
  },
  {
   "cell_type": "markdown",
   "metadata": {},
   "source": [
    "### Step 2: Scrape the Website\n",
    "\n",
    "Create a Beautiful Soup object and use it to extract text elements from the website."
   ]
  },
  {
   "cell_type": "code",
   "execution_count": 4,
   "metadata": {
    "ExecuteTime": {
     "start_time": "2023-07-12T23:39:42.173180Z",
     "end_time": "2023-07-12T23:39:42.193197Z"
    }
   },
   "outputs": [],
   "source": [
    " # Scrape the website\n",
    "html = browser.html\n",
    "\n",
    "# Create a BeautifulSoup object from the scraped HTML\n",
    "soup = BeautifulSoup(html, 'lxml')"
   ]
  },
  {
   "cell_type": "code",
   "execution_count": 5,
   "metadata": {
    "ExecuteTime": {
     "start_time": "2023-07-12T23:39:43.193110Z",
     "end_time": "2023-07-12T23:39:43.240153Z"
    }
   },
   "outputs": [
    {
     "data": {
      "text/plain": "<div class=\"row\">\n<div class=\"col-md-4\">\n<div class=\"list_image\">\n<img src=\"images/9299_maven-vertical-limb-320x240.jpeg\"/>\n</div>\n</div>\n<div class=\"col-md-8\">\n<div class=\"list_text\">\n<div class=\"list_date\">November 9, 2022</div>\n<div class=\"content_title\">NASA's MAVEN Observes Martian Light Show Caused by Major Solar Storm</div>\n<div class=\"article_teaser_body\">For the first time in its eight years orbiting Mars, NASA’s MAVEN mission witnessed two different types of ultraviolet aurorae simultaneously, the result of solar storms that began on Aug. 27.</div>\n</div>\n</div>\n</div>"
     },
     "execution_count": 5,
     "metadata": {},
     "output_type": "execute_result"
    }
   ],
   "source": [
    "# Extract all the text elements\n",
    "articles = soup.find('div', {'id': 'news'}).find_all('div', {'class': 'row'})\n",
    "articles[0]"
   ]
  },
  {
   "cell_type": "markdown",
   "metadata": {},
   "source": [
    "### Step 3: Store the Results\n",
    "\n",
    "Extract the titles and preview text of the news articles that you scraped. Store the scraping results in Python data structures as follows:\n",
    "\n",
    "* Store each title-and-preview pair in a Python dictionary. And, give each dictionary two keys: `title` and `preview`. An example is the following:\n",
    "\n",
    "  ```python\n",
    "  {'title': \"NASA's MAVEN Observes Martian Light Show Caused by Major Solar Storm\", \n",
    "   'preview': \"For the first time in its eight years orbiting Mars, NASA’s MAVEN mission witnessed two different types of ultraviolet aurorae simultaneously, the result of solar storms that began on Aug. 27.\"\n",
    "  }\n",
    "  ```\n",
    "\n",
    "* Store all the dictionaries in a Python list.\n",
    "\n",
    "* Print the list in your notebook."
   ]
  },
  {
   "cell_type": "code",
   "execution_count": 7,
   "metadata": {
    "ExecuteTime": {
     "start_time": "2023-07-12T23:41:05.986043Z",
     "end_time": "2023-07-12T23:41:06.002058Z"
    }
   },
   "outputs": [],
   "source": [
    "# Create an empty list to store the dictionaries\n",
    "rows = []"
   ]
  },
  {
   "cell_type": "code",
   "execution_count": 8,
   "metadata": {
    "ExecuteTime": {
     "start_time": "2023-07-12T23:41:06.656653Z",
     "end_time": "2023-07-12T23:41:06.671667Z"
    }
   },
   "outputs": [
    {
     "data": {
      "text/plain": "                                               title  \\\n0  NASA's MAVEN Observes Martian Light Show Cause...   \n1  NASA Prepares to Say 'Farewell' to InSight Spa...   \n2  NASA and ESA Agree on Next Steps to Return Mar...   \n3  NASA's InSight Lander Detects Stunning Meteoro...   \n4  NASA To Host Briefing on InSight, Mars Reconna...   \n\n                                              teaser  \\\n0  For the first time in its eight years orbiting...   \n1  A closer look at what goes into wrapping up th...   \n2  The agency’s Perseverance rover will establish...   \n3  The agency’s lander felt the ground shake duri...   \n4  Scientists from two Mars missions will discuss...   \n\n                                          image       date  month  \n0  images/9299_maven-vertical-limb-320x240.jpeg 2022-11-09     11  \n1             images/9292_PIA25287-320x240.jpeg 2022-11-01     11  \n2             images/9286_PIA25243-320x240.jpeg 2022-10-28     10  \n3            images/9289_1-PIA25583320x240.jpeg 2022-10-27     10  \n4           images/9284_1-PIA25287-320x240.jpeg 2022-10-21     10  ",
      "text/html": "<div>\n<style scoped>\n    .dataframe tbody tr th:only-of-type {\n        vertical-align: middle;\n    }\n\n    .dataframe tbody tr th {\n        vertical-align: top;\n    }\n\n    .dataframe thead th {\n        text-align: right;\n    }\n</style>\n<table border=\"1\" class=\"dataframe\">\n  <thead>\n    <tr style=\"text-align: right;\">\n      <th></th>\n      <th>title</th>\n      <th>teaser</th>\n      <th>image</th>\n      <th>date</th>\n      <th>month</th>\n    </tr>\n  </thead>\n  <tbody>\n    <tr>\n      <th>0</th>\n      <td>NASA's MAVEN Observes Martian Light Show Cause...</td>\n      <td>For the first time in its eight years orbiting...</td>\n      <td>images/9299_maven-vertical-limb-320x240.jpeg</td>\n      <td>2022-11-09</td>\n      <td>11</td>\n    </tr>\n    <tr>\n      <th>1</th>\n      <td>NASA Prepares to Say 'Farewell' to InSight Spa...</td>\n      <td>A closer look at what goes into wrapping up th...</td>\n      <td>images/9292_PIA25287-320x240.jpeg</td>\n      <td>2022-11-01</td>\n      <td>11</td>\n    </tr>\n    <tr>\n      <th>2</th>\n      <td>NASA and ESA Agree on Next Steps to Return Mar...</td>\n      <td>The agency’s Perseverance rover will establish...</td>\n      <td>images/9286_PIA25243-320x240.jpeg</td>\n      <td>2022-10-28</td>\n      <td>10</td>\n    </tr>\n    <tr>\n      <th>3</th>\n      <td>NASA's InSight Lander Detects Stunning Meteoro...</td>\n      <td>The agency’s lander felt the ground shake duri...</td>\n      <td>images/9289_1-PIA25583320x240.jpeg</td>\n      <td>2022-10-27</td>\n      <td>10</td>\n    </tr>\n    <tr>\n      <th>4</th>\n      <td>NASA To Host Briefing on InSight, Mars Reconna...</td>\n      <td>Scientists from two Mars missions will discuss...</td>\n      <td>images/9284_1-PIA25287-320x240.jpeg</td>\n      <td>2022-10-21</td>\n      <td>10</td>\n    </tr>\n  </tbody>\n</table>\n</div>"
     },
     "execution_count": 8,
     "metadata": {},
     "output_type": "execute_result"
    }
   ],
   "source": [
    "# Loop through the text elements\n",
    "# Extract the title and preview text from the elements\n",
    "# Store each title and preview pair in a dictionary\n",
    "# Add the dictionary to the list\n",
    "for article in articles:\n",
    "    img = article.find('div', {'class', 'list_image'}).find('img')['src']\n",
    "    date = article.find('div', {'class', 'list_date'}).text\n",
    "    title = article.find('div', {'class', 'content_title'}).text\n",
    "    teaser = article.find('div', {'class', 'article_teaser_body'}).text\n",
    "\n",
    "    # create data row\n",
    "    row = {\n",
    "        'title': title,\n",
    "        'teaser': teaser,\n",
    "        'image': img,\n",
    "        'date': date\n",
    "    }\n",
    "\n",
    "    rows.append(row)\n",
    "\n",
    "df = pd.DataFrame(rows)\n",
    "df['date'] = pd.to_datetime(df['date'])\n",
    "df['month'] = df.date.dt.month\n",
    "df.head()"
   ]
  },
  {
   "cell_type": "code",
   "execution_count": 9,
   "metadata": {
    "ExecuteTime": {
     "start_time": "2023-07-12T23:41:19.552812Z",
     "end_time": "2023-07-12T23:41:19.578838Z"
    }
   },
   "outputs": [
    {
     "data": {
      "text/plain": "10    7\n9     3\n8     3\n11    2\nName: month, dtype: int64"
     },
     "execution_count": 9,
     "metadata": {},
     "output_type": "execute_result"
    }
   ],
   "source": [
    "# Print the list to confirm success\n",
    "df.month.value_counts()"
   ]
  },
  {
   "cell_type": "code",
   "execution_count": 10,
   "metadata": {
    "ExecuteTime": {
     "start_time": "2023-07-12T23:41:23.853751Z",
     "end_time": "2023-07-12T23:41:25.962028Z"
    }
   },
   "outputs": [],
   "source": [
    "browser.quit()"
   ]
  },
  {
   "cell_type": "code",
   "execution_count": null,
   "metadata": {},
   "outputs": [],
   "source": []
  }
 ],
 "metadata": {
  "kernelspec": {
   "display_name": "Python 3 (ipykernel)",
   "language": "python",
   "name": "python3"
  },
  "language_info": {
   "codemirror_mode": {
    "name": "ipython",
    "version": 3
   },
   "file_extension": ".py",
   "mimetype": "text/x-python",
   "name": "python",
   "nbconvert_exporter": "python",
   "pygments_lexer": "ipython3",
   "version": "3.10.4"
  },
  "vscode": {
   "interpreter": {
    "hash": "31f2aee4e71d21fbe5cf8b01ff0e069b9275f58929596ceb00d14d90e3e16cd6"
   }
  }
 },
 "nbformat": 4,
 "nbformat_minor": 4
}
