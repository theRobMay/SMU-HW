{
 "cells": [
  {
   "cell_type": "code",
   "execution_count": 1,
   "metadata": {
    "collapsed": true,
    "ExecuteTime": {
     "start_time": "2023-08-21T18:19:27.587087Z",
     "end_time": "2023-08-21T18:19:28.450873Z"
    }
   },
   "outputs": [],
   "source": [
    "# Import dependencies\n",
    "from pymongo import MongoClient\n",
    "from pprint import pprint\n",
    "import pandas as pd\n",
    "import matplotlib.pyplot as plt"
   ]
  },
  {
   "cell_type": "code",
   "execution_count": 2,
   "outputs": [],
   "source": [
    "# Create an instance of MongoClient\n",
    "mongo = MongoClient(port=27017)"
   ],
   "metadata": {
    "collapsed": false,
    "ExecuteTime": {
     "start_time": "2023-08-21T18:19:28.450873Z",
     "end_time": "2023-08-21T18:19:28.465886Z"
    }
   }
  },
  {
   "cell_type": "code",
   "execution_count": 3,
   "outputs": [],
   "source": [
    "# assign the uk_food database to a variable name\n",
    "db = mongo['uk_food']"
   ],
   "metadata": {
    "collapsed": false,
    "ExecuteTime": {
     "start_time": "2023-08-21T18:19:28.466887Z",
     "end_time": "2023-08-21T18:19:28.482901Z"
    }
   }
  },
  {
   "cell_type": "code",
   "execution_count": 4,
   "outputs": [
    {
     "name": "stdout",
     "output_type": "stream",
     "text": [
      "['establishments']\n"
     ]
    }
   ],
   "source": [
    "# review the collections in our database\n",
    "print(db.list_collection_names())"
   ],
   "metadata": {
    "collapsed": false,
    "ExecuteTime": {
     "start_time": "2023-08-21T18:19:37.061512Z",
     "end_time": "2023-08-21T18:19:37.073523Z"
    }
   }
  },
  {
   "cell_type": "code",
   "execution_count": 5,
   "outputs": [],
   "source": [
    "# assign the collection to a variable\n",
    "establishments = db['establishments']"
   ],
   "metadata": {
    "collapsed": false,
    "ExecuteTime": {
     "start_time": "2023-08-21T18:19:44.718394Z",
     "end_time": "2023-08-21T18:19:44.724400Z"
    }
   }
  },
  {
   "cell_type": "code",
   "execution_count": 6,
   "outputs": [
    {
     "name": "stdout",
     "output_type": "stream",
     "text": [
      "There are 41 businesses with a hygiene rating = 20\n",
      "\n",
      "{'BusinessName': 'A1 News & Wine',\n",
      " 'BusinessType': 'Retailers - other',\n",
      " 'FHRSID': 570096,\n",
      " '_id': ObjectId('64e3efc91e5c6c276a5fec2d'),\n",
      " 'scores': {'Hygiene': 20}}\n"
     ]
    }
   ],
   "source": [
    "# 1. Which establishments have a hygiene score equal to 20?\n",
    "\n",
    "# Find the establishments with a hygiene score of 20\n",
    "query = {\"scores.Hygiene\": 20}\n",
    "fields = {\"FHRSID\":1, \"BusinessName\":1, \"BusinessType\":1, \"scores.Hygiene\":1}\n",
    "sort = [('BusinessName', 1)]\n",
    "\n",
    "# Cast the results as a list and save the results to a variable\n",
    "results = establishments.find(query, fields).sort(sort)\n",
    "\n",
    "# Use count_documents to display the number of documents in the result\n",
    "nums = establishments.count_documents(query)\n",
    "print(f\"There are {nums} businesses with a hygiene rating = 20\\n\")\n",
    "\n",
    "# Display the first document in the results using pprint\n",
    "for result in results:\n",
    "    pprint(result)\n",
    "    break"
   ],
   "metadata": {
    "collapsed": false,
    "ExecuteTime": {
     "start_time": "2023-08-21T18:20:16.334456Z",
     "end_time": "2023-08-21T18:20:16.397513Z"
    }
   }
  },
  {
   "cell_type": "code",
   "execution_count": 7,
   "outputs": [
    {
     "name": "stdout",
     "output_type": "stream",
     "text": [
      "(41, 5)\n"
     ]
    },
    {
     "data": {
      "text/plain": "                        _id   FHRSID  \\\n0  64e3efc91e5c6c276a5fec2d   570096   \n1  64e3efc91e5c6c276a5ff1b5   640363   \n2  64e3efc61e5c6c276a5f982b   512854   \n3  64e3efc81e5c6c276a5fda9c   710382   \n4  64e3efc91e5c6c276a5fef6c  1130121   \n5  64e3efc51e5c6c276a5f8985   612039   \n6  64e3efc91e5c6c276a5fed39  1500698   \n7  64e3efc91e5c6c276a5fe8f7  1210197   \n8  64e3efc91e5c6c276a5ff270  1530599   \n9  64e3efc81e5c6c276a5fdd67  1060293   \n\n                                    BusinessName             BusinessType  \\\n0                                 A1 News & Wine        Retailers - other   \n1                                  Angels Bakery  Other catering premises   \n2                               Ashby's Butchers        Retailers - other   \n3  Asian Supermarket Ltd: T/A Best Food Wine Ltd        Retailers - other   \n4                                  Bali Maamalas  Restaurant/Cafe/Canteen   \n5                                     Brenalwood          Caring Premises   \n6                                  Cakes & Bakes   Takeaway/sandwich shop   \n7                                 Caribiscus Ltd  Restaurant/Cafe/Canteen   \n8                                     Chicago 30   Takeaway/sandwich shop   \n9                                     Costcutter        Retailers - other   \n\n            scores  \n0  {'Hygiene': 20}  \n1  {'Hygiene': 20}  \n2  {'Hygiene': 20}  \n3  {'Hygiene': 20}  \n4  {'Hygiene': 20}  \n5  {'Hygiene': 20}  \n6  {'Hygiene': 20}  \n7  {'Hygiene': 20}  \n8  {'Hygiene': 20}  \n9  {'Hygiene': 20}  ",
      "text/html": "<div>\n<style scoped>\n    .dataframe tbody tr th:only-of-type {\n        vertical-align: middle;\n    }\n\n    .dataframe tbody tr th {\n        vertical-align: top;\n    }\n\n    .dataframe thead th {\n        text-align: right;\n    }\n</style>\n<table border=\"1\" class=\"dataframe\">\n  <thead>\n    <tr style=\"text-align: right;\">\n      <th></th>\n      <th>_id</th>\n      <th>FHRSID</th>\n      <th>BusinessName</th>\n      <th>BusinessType</th>\n      <th>scores</th>\n    </tr>\n  </thead>\n  <tbody>\n    <tr>\n      <th>0</th>\n      <td>64e3efc91e5c6c276a5fec2d</td>\n      <td>570096</td>\n      <td>A1 News &amp; Wine</td>\n      <td>Retailers - other</td>\n      <td>{'Hygiene': 20}</td>\n    </tr>\n    <tr>\n      <th>1</th>\n      <td>64e3efc91e5c6c276a5ff1b5</td>\n      <td>640363</td>\n      <td>Angels Bakery</td>\n      <td>Other catering premises</td>\n      <td>{'Hygiene': 20}</td>\n    </tr>\n    <tr>\n      <th>2</th>\n      <td>64e3efc61e5c6c276a5f982b</td>\n      <td>512854</td>\n      <td>Ashby's Butchers</td>\n      <td>Retailers - other</td>\n      <td>{'Hygiene': 20}</td>\n    </tr>\n    <tr>\n      <th>3</th>\n      <td>64e3efc81e5c6c276a5fda9c</td>\n      <td>710382</td>\n      <td>Asian Supermarket Ltd: T/A Best Food Wine Ltd</td>\n      <td>Retailers - other</td>\n      <td>{'Hygiene': 20}</td>\n    </tr>\n    <tr>\n      <th>4</th>\n      <td>64e3efc91e5c6c276a5fef6c</td>\n      <td>1130121</td>\n      <td>Bali Maamalas</td>\n      <td>Restaurant/Cafe/Canteen</td>\n      <td>{'Hygiene': 20}</td>\n    </tr>\n    <tr>\n      <th>5</th>\n      <td>64e3efc51e5c6c276a5f8985</td>\n      <td>612039</td>\n      <td>Brenalwood</td>\n      <td>Caring Premises</td>\n      <td>{'Hygiene': 20}</td>\n    </tr>\n    <tr>\n      <th>6</th>\n      <td>64e3efc91e5c6c276a5fed39</td>\n      <td>1500698</td>\n      <td>Cakes &amp; Bakes</td>\n      <td>Takeaway/sandwich shop</td>\n      <td>{'Hygiene': 20}</td>\n    </tr>\n    <tr>\n      <th>7</th>\n      <td>64e3efc91e5c6c276a5fe8f7</td>\n      <td>1210197</td>\n      <td>Caribiscus Ltd</td>\n      <td>Restaurant/Cafe/Canteen</td>\n      <td>{'Hygiene': 20}</td>\n    </tr>\n    <tr>\n      <th>8</th>\n      <td>64e3efc91e5c6c276a5ff270</td>\n      <td>1530599</td>\n      <td>Chicago 30</td>\n      <td>Takeaway/sandwich shop</td>\n      <td>{'Hygiene': 20}</td>\n    </tr>\n    <tr>\n      <th>9</th>\n      <td>64e3efc81e5c6c276a5fdd67</td>\n      <td>1060293</td>\n      <td>Costcutter</td>\n      <td>Retailers - other</td>\n      <td>{'Hygiene': 20}</td>\n    </tr>\n  </tbody>\n</table>\n</div>"
     },
     "execution_count": 7,
     "metadata": {},
     "output_type": "execute_result"
    }
   ],
   "source": [
    "# Convert the result to a Pandas DataFrame\n",
    "\n",
    "# Display the number of rows in the DataFrame\n",
    "\n",
    "# Display the first 10 rows of the DataFrame\n",
    "results = establishments.find(query, fields).sort(sort)\n",
    "df = pd.DataFrame(results)\n",
    "print(df.shape)\n",
    "df.head(10)"
   ],
   "metadata": {
    "collapsed": false,
    "ExecuteTime": {
     "start_time": "2023-08-21T18:20:24.337448Z",
     "end_time": "2023-08-21T18:20:24.376485Z"
    }
   }
  },
  {
   "cell_type": "code",
   "execution_count": 8,
   "outputs": [
    {
     "name": "stdout",
     "output_type": "stream",
     "text": [
      "There are 33 businesses matching the query\n",
      "\n",
      "{'BusinessName': 'Mv City Cruises Erasmus',\n",
      " 'BusinessType': 'Other catering premises',\n",
      " 'FHRSID': 1130836,\n",
      " 'LocalAuthorityName': 'City of London Corporation',\n",
      " 'RatingValue': 5,\n",
      " '_id': ObjectId('64e3efc61e5c6c276a5fa345')}\n"
     ]
    }
   ],
   "source": [
    "# 2. Which establishments in London have a RatingValue greater than or equal to 4?\n",
    "\n",
    "# Find the establishments with London as the Local Authority and has a RatingValue greater than or equal to 4.\n",
    "query = {\"LocalAuthorityName\":{\"$regex\": \"London\"},\n",
    "        \"RatingValue\": {\"$gte\": 4}}\n",
    "\n",
    "fields = {\"FHRSID\":1, \"BusinessName\":1, \"BusinessType\":1, \"LocalAuthorityName\":1, \"RatingValue\":1}\n",
    "sort = [('RatingValue', -1)]\n",
    "\n",
    "# Cast the results as a list and save the results to a variable\n",
    "results = establishments.find(query, fields).sort(sort)\n",
    "\n",
    "# Use count_documents to display the number of documents in the result\n",
    "nums = establishments.count_documents(query)\n",
    "print(f\"There are {nums} businesses matching the query\\n\")\n",
    "\n",
    "# Display the first document in the results using pprint\n",
    "for result in results:\n",
    "    pprint(result)\n",
    "    break"
   ],
   "metadata": {
    "collapsed": false,
    "ExecuteTime": {
     "start_time": "2023-08-21T18:20:44.025657Z",
     "end_time": "2023-08-21T18:20:44.096721Z"
    }
   }
  },
  {
   "cell_type": "code",
   "execution_count": 9,
   "outputs": [
    {
     "name": "stdout",
     "output_type": "stream",
     "text": [
      "(33, 6)\n"
     ]
    },
    {
     "data": {
      "text/plain": "                        _id   FHRSID                          BusinessName  \\\n0  64e3efc61e5c6c276a5fa345  1130836               Mv City Cruises Erasmus   \n1  64e3efc71e5c6c276a5fbc92  1315095  Coombs Catering t/a The Lock and Key   \n2  64e3efc71e5c6c276a5fbc93   294474              Tilbury Seafarers Centre   \n3  64e3efc81e5c6c276a5fc39b   294900                            Mv Valulla   \n4  64e3efc91e5c6c276a5fe4a9   293756                         Tereza Joanne   \n5  64e3efc91e5c6c276a5fe88a   293772         The Nuance Group (UK) Limited   \n6  64e3efc91e5c6c276a5fe88b   294606                              WH Smith   \n7  64e3efc91e5c6c276a5fe88c   295107                      City Bar & Grill   \n8  64e3efc91e5c6c276a5fea6a   294523                            Jet Centre   \n9  64e3efc91e5c6c276a5fea6b   294616                            Caffè Nero   \n\n              BusinessType  RatingValue          LocalAuthorityName  \n0  Other catering premises            5  City of London Corporation  \n1  Restaurant/Cafe/Canteen            5  City of London Corporation  \n2  Restaurant/Cafe/Canteen            5  City of London Corporation  \n3  Other catering premises            5  City of London Corporation  \n4  Other catering premises            5  City of London Corporation  \n5        Retailers - other            5  City of London Corporation  \n6        Retailers - other            5  City of London Corporation  \n7  Restaurant/Cafe/Canteen            5  City of London Corporation  \n8  Restaurant/Cafe/Canteen            5  City of London Corporation  \n9  Restaurant/Cafe/Canteen            5  City of London Corporation  ",
      "text/html": "<div>\n<style scoped>\n    .dataframe tbody tr th:only-of-type {\n        vertical-align: middle;\n    }\n\n    .dataframe tbody tr th {\n        vertical-align: top;\n    }\n\n    .dataframe thead th {\n        text-align: right;\n    }\n</style>\n<table border=\"1\" class=\"dataframe\">\n  <thead>\n    <tr style=\"text-align: right;\">\n      <th></th>\n      <th>_id</th>\n      <th>FHRSID</th>\n      <th>BusinessName</th>\n      <th>BusinessType</th>\n      <th>RatingValue</th>\n      <th>LocalAuthorityName</th>\n    </tr>\n  </thead>\n  <tbody>\n    <tr>\n      <th>0</th>\n      <td>64e3efc61e5c6c276a5fa345</td>\n      <td>1130836</td>\n      <td>Mv City Cruises Erasmus</td>\n      <td>Other catering premises</td>\n      <td>5</td>\n      <td>City of London Corporation</td>\n    </tr>\n    <tr>\n      <th>1</th>\n      <td>64e3efc71e5c6c276a5fbc92</td>\n      <td>1315095</td>\n      <td>Coombs Catering t/a The Lock and Key</td>\n      <td>Restaurant/Cafe/Canteen</td>\n      <td>5</td>\n      <td>City of London Corporation</td>\n    </tr>\n    <tr>\n      <th>2</th>\n      <td>64e3efc71e5c6c276a5fbc93</td>\n      <td>294474</td>\n      <td>Tilbury Seafarers Centre</td>\n      <td>Restaurant/Cafe/Canteen</td>\n      <td>5</td>\n      <td>City of London Corporation</td>\n    </tr>\n    <tr>\n      <th>3</th>\n      <td>64e3efc81e5c6c276a5fc39b</td>\n      <td>294900</td>\n      <td>Mv Valulla</td>\n      <td>Other catering premises</td>\n      <td>5</td>\n      <td>City of London Corporation</td>\n    </tr>\n    <tr>\n      <th>4</th>\n      <td>64e3efc91e5c6c276a5fe4a9</td>\n      <td>293756</td>\n      <td>Tereza Joanne</td>\n      <td>Other catering premises</td>\n      <td>5</td>\n      <td>City of London Corporation</td>\n    </tr>\n    <tr>\n      <th>5</th>\n      <td>64e3efc91e5c6c276a5fe88a</td>\n      <td>293772</td>\n      <td>The Nuance Group (UK) Limited</td>\n      <td>Retailers - other</td>\n      <td>5</td>\n      <td>City of London Corporation</td>\n    </tr>\n    <tr>\n      <th>6</th>\n      <td>64e3efc91e5c6c276a5fe88b</td>\n      <td>294606</td>\n      <td>WH Smith</td>\n      <td>Retailers - other</td>\n      <td>5</td>\n      <td>City of London Corporation</td>\n    </tr>\n    <tr>\n      <th>7</th>\n      <td>64e3efc91e5c6c276a5fe88c</td>\n      <td>295107</td>\n      <td>City Bar &amp; Grill</td>\n      <td>Restaurant/Cafe/Canteen</td>\n      <td>5</td>\n      <td>City of London Corporation</td>\n    </tr>\n    <tr>\n      <th>8</th>\n      <td>64e3efc91e5c6c276a5fea6a</td>\n      <td>294523</td>\n      <td>Jet Centre</td>\n      <td>Restaurant/Cafe/Canteen</td>\n      <td>5</td>\n      <td>City of London Corporation</td>\n    </tr>\n    <tr>\n      <th>9</th>\n      <td>64e3efc91e5c6c276a5fea6b</td>\n      <td>294616</td>\n      <td>Caffè Nero</td>\n      <td>Restaurant/Cafe/Canteen</td>\n      <td>5</td>\n      <td>City of London Corporation</td>\n    </tr>\n  </tbody>\n</table>\n</div>"
     },
     "execution_count": 9,
     "metadata": {},
     "output_type": "execute_result"
    }
   ],
   "source": [
    "# Convert the result to a Pandas DataFrame\n",
    "\n",
    "# Display the number of rows in the DataFrame\n",
    "\n",
    "# Display the first 10 rows of the DataFrame\n",
    "results = establishments.find(query, fields).sort(sort)\n",
    "df = pd.DataFrame(results)\n",
    "print(df.shape)\n",
    "df.head(10)"
   ],
   "metadata": {
    "collapsed": false,
    "ExecuteTime": {
     "start_time": "2023-08-21T18:20:52.155700Z",
     "end_time": "2023-08-21T18:20:52.195736Z"
    }
   }
  },
  {
   "cell_type": "code",
   "execution_count": 10,
   "outputs": [
    {
     "name": "stdout",
     "output_type": "stream",
     "text": [
      "{'BusinessName': 'Volunteer',\n",
      " 'BusinessType': 'Pub/bar/nightclub',\n",
      " 'FHRSID': 694609,\n",
      " 'RatingValue': 5,\n",
      " '_id': ObjectId('64e3efc81e5c6c276a5fde63'),\n",
      " 'geocode': {'latitude': 51.4873437, 'longitude': 0.09208},\n",
      " 'scores': {'Hygiene': 0}}\n",
      "{'BusinessName': 'Plumstead Manor Nursery',\n",
      " 'BusinessType': 'Caring Premises',\n",
      " 'FHRSID': 695241,\n",
      " 'RatingValue': 5,\n",
      " '_id': ObjectId('64e3efc81e5c6c276a5fde7b'),\n",
      " 'geocode': {'latitude': 51.481517791748, 'longitude': 0.0859939977526665},\n",
      " 'scores': {'Hygiene': 0}}\n",
      "{'BusinessName': 'Iceland',\n",
      " 'BusinessType': 'Retailers - supermarkets/hypermarkets',\n",
      " 'FHRSID': 695223,\n",
      " 'RatingValue': 5,\n",
      " '_id': ObjectId('64e3efc81e5c6c276a5fde36'),\n",
      " 'geocode': {'latitude': 51.4871482849121, 'longitude': 0.0924199968576431},\n",
      " 'scores': {'Hygiene': 0}}\n",
      "{'BusinessName': 'TIWA N TIWA African Restaurant Ltd',\n",
      " 'BusinessType': 'Restaurant/Cafe/Canteen',\n",
      " 'FHRSID': 1069652,\n",
      " 'RatingValue': 5,\n",
      " '_id': ObjectId('64e3efc81e5c6c276a5fde0f'),\n",
      " 'geocode': {'latitude': 51.4870351, 'longitude': 0.0927429},\n",
      " 'scores': {'Hygiene': 5}}\n",
      "{'BusinessName': 'Howe and Co Fish and Chips - Van 17',\n",
      " 'BusinessType': 'Mobile caterer',\n",
      " 'FHRSID': 1380578,\n",
      " 'RatingValue': 5,\n",
      " '_id': ObjectId('64e3efc81e5c6c276a5fde46'),\n",
      " 'geocode': {'latitude': 51.4875335693359, 'longitude': 0.0925370007753372},\n",
      " 'scores': {'Hygiene': 0}}\n"
     ]
    }
   ],
   "source": [
    "# 3. What are the top 5 establishments with a `RatingValue` rating value of 5, sorted by lowest hygiene score, nearest to the new restaurant added, \"Penang Flavours\"?\n",
    "\n",
    "# Search within 0.01 degree on either side of the latitude and longitude.\n",
    "# Rating value must equal 5\n",
    "# Sort by hygiene score\n",
    "\n",
    "degree_search = 0.01\n",
    "latitude = 51.49014200\n",
    "longitude = 0.08384000\n",
    "\n",
    "query = {'geocode.latitude': {'$gte':latitude-degree_search, '$lte':latitude+degree_search},\n",
    "         'geocode.longitude': {'$gte': longitude-degree_search, '$lte': longitude+degree_search},\n",
    "         'RatingValue': 5}\n",
    "sort = [('score.Hygiene', 1)]\n",
    "fields = {\"FHRSID\":1, \"BusinessName\":1, \"BusinessType\":1, \"geocode.latitude\": 1, \"geocode.longitude\": 1, \"scores.Hygiene\":1, \"RatingValue\": 1}\n",
    "limit = 5\n",
    "\n",
    "# Print the results\n",
    "results = establishments.find(query, fields).sort(sort).limit(limit)\n",
    "\n",
    "for result in results:\n",
    "    pprint(result)"
   ],
   "metadata": {
    "collapsed": false,
    "ExecuteTime": {
     "start_time": "2023-08-21T18:21:18.658816Z",
     "end_time": "2023-08-21T18:21:18.709861Z"
    }
   }
  },
  {
   "cell_type": "code",
   "execution_count": 11,
   "outputs": [
    {
     "name": "stdout",
     "output_type": "stream",
     "text": [
      "(5, 7)\n"
     ]
    },
    {
     "data": {
      "text/plain": "                        _id   FHRSID                         BusinessName  \\\n0  64e3efc81e5c6c276a5fde63   694609                            Volunteer   \n1  64e3efc81e5c6c276a5fde7b   695241              Plumstead Manor Nursery   \n2  64e3efc81e5c6c276a5fde36   695223                              Iceland   \n3  64e3efc81e5c6c276a5fde0f  1069652   TIWA N TIWA African Restaurant Ltd   \n4  64e3efc81e5c6c276a5fde46  1380578  Howe and Co Fish and Chips - Van 17   \n\n                            BusinessType  RatingValue          scores  \\\n0                      Pub/bar/nightclub            5  {'Hygiene': 0}   \n1                        Caring Premises            5  {'Hygiene': 0}   \n2  Retailers - supermarkets/hypermarkets            5  {'Hygiene': 0}   \n3                Restaurant/Cafe/Canteen            5  {'Hygiene': 5}   \n4                         Mobile caterer            5  {'Hygiene': 0}   \n\n                                             geocode  \n0     {'longitude': 0.09208, 'latitude': 51.4873437}  \n1  {'longitude': 0.0859939977526665, 'latitude': ...  \n2  {'longitude': 0.0924199968576431, 'latitude': ...  \n3   {'longitude': 0.0927429, 'latitude': 51.4870351}  \n4  {'longitude': 0.0925370007753372, 'latitude': ...  ",
      "text/html": "<div>\n<style scoped>\n    .dataframe tbody tr th:only-of-type {\n        vertical-align: middle;\n    }\n\n    .dataframe tbody tr th {\n        vertical-align: top;\n    }\n\n    .dataframe thead th {\n        text-align: right;\n    }\n</style>\n<table border=\"1\" class=\"dataframe\">\n  <thead>\n    <tr style=\"text-align: right;\">\n      <th></th>\n      <th>_id</th>\n      <th>FHRSID</th>\n      <th>BusinessName</th>\n      <th>BusinessType</th>\n      <th>RatingValue</th>\n      <th>scores</th>\n      <th>geocode</th>\n    </tr>\n  </thead>\n  <tbody>\n    <tr>\n      <th>0</th>\n      <td>64e3efc81e5c6c276a5fde63</td>\n      <td>694609</td>\n      <td>Volunteer</td>\n      <td>Pub/bar/nightclub</td>\n      <td>5</td>\n      <td>{'Hygiene': 0}</td>\n      <td>{'longitude': 0.09208, 'latitude': 51.4873437}</td>\n    </tr>\n    <tr>\n      <th>1</th>\n      <td>64e3efc81e5c6c276a5fde7b</td>\n      <td>695241</td>\n      <td>Plumstead Manor Nursery</td>\n      <td>Caring Premises</td>\n      <td>5</td>\n      <td>{'Hygiene': 0}</td>\n      <td>{'longitude': 0.0859939977526665, 'latitude': ...</td>\n    </tr>\n    <tr>\n      <th>2</th>\n      <td>64e3efc81e5c6c276a5fde36</td>\n      <td>695223</td>\n      <td>Iceland</td>\n      <td>Retailers - supermarkets/hypermarkets</td>\n      <td>5</td>\n      <td>{'Hygiene': 0}</td>\n      <td>{'longitude': 0.0924199968576431, 'latitude': ...</td>\n    </tr>\n    <tr>\n      <th>3</th>\n      <td>64e3efc81e5c6c276a5fde0f</td>\n      <td>1069652</td>\n      <td>TIWA N TIWA African Restaurant Ltd</td>\n      <td>Restaurant/Cafe/Canteen</td>\n      <td>5</td>\n      <td>{'Hygiene': 5}</td>\n      <td>{'longitude': 0.0927429, 'latitude': 51.4870351}</td>\n    </tr>\n    <tr>\n      <th>4</th>\n      <td>64e3efc81e5c6c276a5fde46</td>\n      <td>1380578</td>\n      <td>Howe and Co Fish and Chips - Van 17</td>\n      <td>Mobile caterer</td>\n      <td>5</td>\n      <td>{'Hygiene': 0}</td>\n      <td>{'longitude': 0.0925370007753372, 'latitude': ...</td>\n    </tr>\n  </tbody>\n</table>\n</div>"
     },
     "execution_count": 11,
     "metadata": {},
     "output_type": "execute_result"
    }
   ],
   "source": [
    "# Convert result to Pandas DataFrame\n",
    "results = establishments.find(query, fields).sort(sort).limit(limit)\n",
    "df = pd.DataFrame(results)\n",
    "print(df.shape)\n",
    "df.head(10)"
   ],
   "metadata": {
    "collapsed": false,
    "ExecuteTime": {
     "start_time": "2023-08-21T18:21:27.253241Z",
     "end_time": "2023-08-21T18:21:27.307291Z"
    }
   }
  },
  {
   "cell_type": "code",
   "execution_count": 12,
   "outputs": [
    {
     "name": "stdout",
     "output_type": "stream",
     "text": [
      "There are 55 Local Authorities with at least one Restaurant with a Hygiene of 0\n",
      "[{'_id': 'Thanet', 'num_items': 1130},\n",
      " {'_id': 'Greenwich', 'num_items': 882},\n",
      " {'_id': 'Maidstone', 'num_items': 713},\n",
      " {'_id': 'Newham', 'num_items': 711},\n",
      " {'_id': 'Swale', 'num_items': 686},\n",
      " {'_id': 'Chelmsford', 'num_items': 680},\n",
      " {'_id': 'Medway', 'num_items': 672},\n",
      " {'_id': 'Bexley', 'num_items': 607},\n",
      " {'_id': 'Southend-On-Sea', 'num_items': 586},\n",
      " {'_id': 'Tendring', 'num_items': 542}]\n"
     ]
    }
   ],
   "source": [
    "# 4. How many establishments in each Local Authority area have a hygiene score of 0?\n",
    "\n",
    "# Create a pipeline that:\n",
    "# 1. Matches establishments with a hygiene score of 0\n",
    "# 2. Groups the matches by Local Authority\n",
    "# 3. Sorts the matches from highest to lowest\n",
    "\n",
    "# Print the number of documents in the result\n",
    "\n",
    "# Print the first 10 results\n",
    "\n",
    "query = [\n",
    "    {\"$match\":\n",
    "        {\"scores.Hygiene\": 0}\n",
    "    },\n",
    "    {\"$group\":\n",
    "        {'_id': \"$LocalAuthorityName\",\n",
    "         \"num_items\": {\"$sum\": 1}\n",
    "        }\n",
    "    },\n",
    "    {\"$sort\": {\"num_items\": -1}}\n",
    "]\n",
    "\n",
    "data = list(establishments.aggregate(query))\n",
    "print(f\"There are {len(data)} Local Authorities with at least one Restaurant with a Hygiene of 0\")\n",
    "\n",
    "pprint(data[0:10])"
   ],
   "metadata": {
    "collapsed": false,
    "ExecuteTime": {
     "start_time": "2023-08-21T18:22:05.523505Z",
     "end_time": "2023-08-21T18:22:05.583559Z"
    }
   }
  },
  {
   "cell_type": "code",
   "execution_count": 13,
   "outputs": [
    {
     "name": "stdout",
     "output_type": "stream",
     "text": [
      "(55, 2)\n"
     ]
    },
    {
     "data": {
      "text/plain": "               _id  num_items\n0           Thanet       1130\n1        Greenwich        882\n2        Maidstone        713\n3           Newham        711\n4            Swale        686\n5       Chelmsford        680\n6           Medway        672\n7           Bexley        607\n8  Southend-On-Sea        586\n9         Tendring        542",
      "text/html": "<div>\n<style scoped>\n    .dataframe tbody tr th:only-of-type {\n        vertical-align: middle;\n    }\n\n    .dataframe tbody tr th {\n        vertical-align: top;\n    }\n\n    .dataframe thead th {\n        text-align: right;\n    }\n</style>\n<table border=\"1\" class=\"dataframe\">\n  <thead>\n    <tr style=\"text-align: right;\">\n      <th></th>\n      <th>_id</th>\n      <th>num_items</th>\n    </tr>\n  </thead>\n  <tbody>\n    <tr>\n      <th>0</th>\n      <td>Thanet</td>\n      <td>1130</td>\n    </tr>\n    <tr>\n      <th>1</th>\n      <td>Greenwich</td>\n      <td>882</td>\n    </tr>\n    <tr>\n      <th>2</th>\n      <td>Maidstone</td>\n      <td>713</td>\n    </tr>\n    <tr>\n      <th>3</th>\n      <td>Newham</td>\n      <td>711</td>\n    </tr>\n    <tr>\n      <th>4</th>\n      <td>Swale</td>\n      <td>686</td>\n    </tr>\n    <tr>\n      <th>5</th>\n      <td>Chelmsford</td>\n      <td>680</td>\n    </tr>\n    <tr>\n      <th>6</th>\n      <td>Medway</td>\n      <td>672</td>\n    </tr>\n    <tr>\n      <th>7</th>\n      <td>Bexley</td>\n      <td>607</td>\n    </tr>\n    <tr>\n      <th>8</th>\n      <td>Southend-On-Sea</td>\n      <td>586</td>\n    </tr>\n    <tr>\n      <th>9</th>\n      <td>Tendring</td>\n      <td>542</td>\n    </tr>\n  </tbody>\n</table>\n</div>"
     },
     "execution_count": 13,
     "metadata": {},
     "output_type": "execute_result"
    }
   ],
   "source": [
    "# Convert the result to a Pandas DataFrame\n",
    "df = pd.DataFrame(data)\n",
    "\n",
    "# Display the number of rows in the DataFrame\n",
    "print(df.shape)\n",
    "\n",
    "# Display the first 10 rows of the DataFrame\n",
    "df.head(10)"
   ],
   "metadata": {
    "collapsed": false,
    "ExecuteTime": {
     "start_time": "2023-08-21T18:22:13.381117Z",
     "end_time": "2023-08-21T18:22:13.395129Z"
    }
   }
  },
  {
   "cell_type": "code",
   "execution_count": 14,
   "outputs": [
    {
     "data": {
      "text/plain": "<Figure size 640x480 with 1 Axes>",
      "image/png": "[encoded data removed]"
     },
     "metadata": {},
     "output_type": "display_data"
    }
   ],
   "source": [
    "df.sort_values(by=\"num_items\").tail(10).plot(kind=\"barh\", y=\"num_items\", x=\"_id\")\n",
    "plt.show()"
   ],
   "metadata": {
    "collapsed": false,
    "ExecuteTime": {
     "start_time": "2023-08-21T18:22:21.414807Z",
     "end_time": "2023-08-21T18:22:21.630003Z"
    }
   }
  },
  {
   "cell_type": "code",
   "execution_count": null,
   "outputs": [],
   "source": [],
   "metadata": {
    "collapsed": false
   }
  }
 ],
 "metadata": {
  "kernelspec": {
   "display_name": "Python 3",
   "language": "python",
   "name": "python3"
  },
  "language_info": {
   "codemirror_mode": {
    "name": "ipython",
    "version": 2
   },
   "file_extension": ".py",
   "mimetype": "text/x-python",
   "name": "python",
   "nbconvert_exporter": "python",
   "pygments_lexer": "ipython2",
   "version": "2.7.6"
  }
 },
 "nbformat": 4,
 "nbformat_minor": 0
}
