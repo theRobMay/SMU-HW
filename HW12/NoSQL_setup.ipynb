{
 "cells": [
  {
   "cell_type": "code",
   "execution_count": 5,
   "metadata": {
    "collapsed": true,
    "ExecuteTime": {
     "start_time": "2023-08-21T18:14:23.191221Z",
     "end_time": "2023-08-21T18:14:23.204234Z"
    }
   },
   "outputs": [],
   "source": [
    "# Import dependencies\n",
    "from pymongo import MongoClient\n",
    "from pprint import pprint\n",
    "import pandas as pd\n",
    "import matplotlib.pyplot as plt"
   ]
  },
  {
   "cell_type": "code",
   "execution_count": 6,
   "outputs": [],
   "source": [
    "# Create an instance of MongoClient\n",
    "mongo = MongoClient(port=27017)"
   ],
   "metadata": {
    "collapsed": false,
    "ExecuteTime": {
     "start_time": "2023-08-21T18:14:23.206236Z",
     "end_time": "2023-08-21T18:14:23.229256Z"
    }
   }
  },
  {
   "cell_type": "code",
   "execution_count": 7,
   "outputs": [],
   "source": [
    "# assign the uk_food database to a variable name\n",
    "db = mongo['uk_food']"
   ],
   "metadata": {
    "collapsed": false,
    "ExecuteTime": {
     "start_time": "2023-08-21T18:14:23.222249Z",
     "end_time": "2023-08-21T18:14:23.251276Z"
    }
   }
  },
  {
   "cell_type": "code",
   "execution_count": 8,
   "outputs": [
    {
     "name": "stdout",
     "output_type": "stream",
     "text": [
      "['establishments']\n"
     ]
    }
   ],
   "source": [
    "# review the collections in our database\n",
    "print(db.list_collection_names())"
   ],
   "metadata": {
    "collapsed": false,
    "ExecuteTime": {
     "start_time": "2023-08-21T18:14:23.237263Z",
     "end_time": "2023-08-21T18:14:23.283305Z"
    }
   }
  },
  {
   "cell_type": "code",
   "execution_count": 9,
   "outputs": [
    {
     "name": "stdout",
     "output_type": "stream",
     "text": [
      "{'AddressLine1': 'The Bay',\n",
      " 'AddressLine2': 'St Margarets Bay',\n",
      " 'AddressLine3': 'Kent',\n",
      " 'AddressLine4': '',\n",
      " 'BusinessName': 'Refreshment Kiosk',\n",
      " 'BusinessType': 'Restaurant/Cafe/Canteen',\n",
      " 'BusinessTypeID': 1,\n",
      " 'ChangesByServerID': 0,\n",
      " 'Distance': 4587.347174863443,\n",
      " 'FHRSID': 254719,\n",
      " 'LocalAuthorityBusinessID': 'PI/000069980',\n",
      " 'LocalAuthorityCode': '182',\n",
      " 'LocalAuthorityEmailAddress': 'publicprotection@dover.gov.uk',\n",
      " 'LocalAuthorityName': 'Dover',\n",
      " 'LocalAuthorityWebSite': 'http://www.dover.gov.uk/',\n",
      " 'NewRatingPending': False,\n",
      " 'Phone': '',\n",
      " 'PostCode': 'CT15 6DY',\n",
      " 'RatingDate': '2022-03-24T00:00:00',\n",
      " 'RatingKey': 'fhrs_5_en-gb',\n",
      " 'RatingValue': '5',\n",
      " 'RightToReply': '',\n",
      " 'SchemeType': 'FHRS',\n",
      " '_id': ObjectId('64e3efc41e5c6c276a5f67eb'),\n",
      " 'geocode': {'latitude': '51.152225', 'longitude': '1.387974'},\n",
      " 'links': [{'href': 'https://api.ratings.food.gov.uk/establishments/254719',\n",
      "            'rel': 'self'}],\n",
      " 'meta': {'dataSource': None,\n",
      "          'extractDate': '0001-01-01T00:00:00',\n",
      "          'itemCount': 0,\n",
      "          'pageNumber': 0,\n",
      "          'pageSize': 0,\n",
      "          'returncode': None,\n",
      "          'totalCount': 0,\n",
      "          'totalPages': 0},\n",
      " 'scores': {'ConfidenceInManagement': 5, 'Hygiene': 0, 'Structural': 5}}\n"
     ]
    }
   ],
   "source": [
    "# review a document in the establishments collection\n",
    "pprint(db.establishments.find_one())"
   ],
   "metadata": {
    "collapsed": false,
    "ExecuteTime": {
     "start_time": "2023-08-21T18:15:08.340615Z",
     "end_time": "2023-08-21T18:15:08.356629Z"
    }
   }
  },
  {
   "cell_type": "code",
   "execution_count": 10,
   "outputs": [],
   "source": [
    "# assign the collection to a variable\n",
    "establishments = db['establishments']"
   ],
   "metadata": {
    "collapsed": false,
    "ExecuteTime": {
     "start_time": "2023-08-21T18:15:17.543520Z",
     "end_time": "2023-08-21T18:15:17.554530Z"
    }
   }
  },
  {
   "cell_type": "code",
   "execution_count": 11,
   "outputs": [
    {
     "data": {
      "text/plain": "<pymongo.results.DeleteResult at 0x1ec0d496a10>"
     },
     "execution_count": 11,
     "metadata": {},
     "output_type": "execute_result"
    }
   ],
   "source": [
    "#1. An exciting new halal restaurant just opened in Greenwich, but hasn't been rated yet. The magazine has asked you to include it in your analysis. Add the following restaurant \"Penang Flavours\" to the database.\n",
    "\n",
    "establishments.delete_one(\n",
    "    {'BusinessName': 'Penang Flavours'}\n",
    ")"
   ],
   "metadata": {
    "collapsed": false,
    "ExecuteTime": {
     "start_time": "2023-08-21T18:15:49.599994Z",
     "end_time": "2023-08-21T18:15:49.649039Z"
    }
   }
  },
  {
   "cell_type": "code",
   "execution_count": 12,
   "outputs": [],
   "source": [
    "# Create a dictionary for the new restaurant data\n",
    "new_restaurant = {\n",
    "    \"BusinessName\":\"Penang Flavours\",\n",
    "    \"BusinessType\":\"Restaurant/Cafe/Canteen\",\n",
    "    \"BusinessTypeID\":\"\",\n",
    "    \"AddressLine1\":\"Penang Flavours\",\n",
    "    \"AddressLine2\":\"146A Plumstead Rd\",\n",
    "    \"AddressLine3\":\"London\",\n",
    "    \"AddressLine4\":\"\",\n",
    "    \"PostCode\":\"SE18 7DY\",\n",
    "    \"Phone\":\"\",\n",
    "    \"LocalAuthorityCode\":\"511\",\n",
    "    \"LocalAuthorityName\":\"Greenwich\",\n",
    "    \"LocalAuthorityWebSite\":\"http://www.royalgreenwich.gov.uk\",\n",
    "    \"LocalAuthorityEmailAddress\":\"health@royalgreenwich.gov.uk\",\n",
    "    \"scores\":{\n",
    "        \"Hygiene\":\"\",\n",
    "        \"Structural\":\"\",\n",
    "        \"ConfidenceInManagement\":\"\"\n",
    "    },\n",
    "    \"SchemeType\":\"FHRS\",\n",
    "    \"geocode\":{\n",
    "        \"longitude\":\"0.08384000\",\n",
    "        \"latitude\":\"51.49014200\"\n",
    "    },\n",
    "    \"RightToReply\":\"\",\n",
    "    \"Distance\":4623.9723280747176,\n",
    "    \"NewRatingPending\":True\n",
    "}"
   ],
   "metadata": {
    "collapsed": false,
    "ExecuteTime": {
     "start_time": "2023-08-21T18:16:05.094066Z",
     "end_time": "2023-08-21T18:16:05.106077Z"
    }
   }
  },
  {
   "cell_type": "code",
   "execution_count": 13,
   "outputs": [
    {
     "data": {
      "text/plain": "<pymongo.results.InsertOneResult at 0x1ec0d517fd0>"
     },
     "execution_count": 13,
     "metadata": {},
     "output_type": "execute_result"
    }
   ],
   "source": [
    "# Insert the new restaurant into the collection\n",
    "db.establishments.insert_one(new_restaurant)"
   ],
   "metadata": {
    "collapsed": false,
    "ExecuteTime": {
     "start_time": "2023-08-21T18:16:12.936365Z",
     "end_time": "2023-08-21T18:16:12.942370Z"
    }
   }
  },
  {
   "cell_type": "code",
   "execution_count": 14,
   "outputs": [
    {
     "name": "stdout",
     "output_type": "stream",
     "text": [
      "{'AddressLine1': 'Penang Flavours',\n",
      " 'AddressLine2': '146A Plumstead Rd',\n",
      " 'AddressLine3': 'London',\n",
      " 'AddressLine4': '',\n",
      " 'BusinessName': 'Penang Flavours',\n",
      " 'BusinessType': 'Restaurant/Cafe/Canteen',\n",
      " 'BusinessTypeID': '',\n",
      " 'Distance': 4623.972328074718,\n",
      " 'LocalAuthorityCode': '511',\n",
      " 'LocalAuthorityEmailAddress': 'health@royalgreenwich.gov.uk',\n",
      " 'LocalAuthorityName': 'Greenwich',\n",
      " 'LocalAuthorityWebSite': 'http://www.royalgreenwich.gov.uk',\n",
      " 'NewRatingPending': True,\n",
      " 'Phone': '',\n",
      " 'PostCode': 'SE18 7DY',\n",
      " 'RightToReply': '',\n",
      " 'SchemeType': 'FHRS',\n",
      " '_id': ObjectId('64e3f03c4f717505e5afde51'),\n",
      " 'geocode': {'latitude': '51.49014200', 'longitude': '0.08384000'},\n",
      " 'scores': {'ConfidenceInManagement': '', 'Hygiene': '', 'Structural': ''}}\n"
     ]
    }
   ],
   "source": [
    "# Check that the new restaurant was inserted\n",
    "query = {'BusinessName': 'Penang Flavours'}\n",
    "results = db.establishments.find(query)\n",
    "for result in results:\n",
    "    pprint(result)"
   ],
   "metadata": {
    "collapsed": false,
    "ExecuteTime": {
     "start_time": "2023-08-21T18:16:20.475323Z",
     "end_time": "2023-08-21T18:16:20.534376Z"
    }
   }
  },
  {
   "cell_type": "code",
   "execution_count": 15,
   "outputs": [
    {
     "data": {
      "text/plain": "                        _id             BusinessType  BusinessTypeID\n0  64e3efc41e5c6c276a5f67eb  Restaurant/Cafe/Canteen               1",
      "text/html": "<div>\n<style scoped>\n    .dataframe tbody tr th:only-of-type {\n        vertical-align: middle;\n    }\n\n    .dataframe tbody tr th {\n        vertical-align: top;\n    }\n\n    .dataframe thead th {\n        text-align: right;\n    }\n</style>\n<table border=\"1\" class=\"dataframe\">\n  <thead>\n    <tr style=\"text-align: right;\">\n      <th></th>\n      <th>_id</th>\n      <th>BusinessType</th>\n      <th>BusinessTypeID</th>\n    </tr>\n  </thead>\n  <tbody>\n    <tr>\n      <th>0</th>\n      <td>64e3efc41e5c6c276a5f67eb</td>\n      <td>Restaurant/Cafe/Canteen</td>\n      <td>1</td>\n    </tr>\n  </tbody>\n</table>\n</div>"
     },
     "execution_count": 15,
     "metadata": {},
     "output_type": "execute_result"
    }
   ],
   "source": [
    "# Find the BusinessTypeID for \"Restaurant/Cafe/Canteen\" and return only the BusinessTypeID and BusinessType fields\n",
    "query = {\"BusinessType\": \"Restaurant/Cafe/Canteen\"}\n",
    "fields = {\"BusinessTypeID\":1, \"BusinessType\":1}\n",
    "limit = 1\n",
    "\n",
    "# Cast the results as a list and save the results to a variable\n",
    "data = establishments.find(query, fields).limit(limit)\n",
    "\n",
    "# Pretty print the results\n",
    "df = pd.DataFrame(data)\n",
    "df.head()"
   ],
   "metadata": {
    "collapsed": false,
    "ExecuteTime": {
     "start_time": "2023-08-21T18:16:31.077048Z",
     "end_time": "2023-08-21T18:16:31.107076Z"
    }
   }
  },
  {
   "cell_type": "code",
   "execution_count": 16,
   "outputs": [
    {
     "data": {
      "text/plain": "<pymongo.results.UpdateResult at 0x1ec0d532e60>"
     },
     "execution_count": 16,
     "metadata": {},
     "output_type": "execute_result"
    }
   ],
   "source": [
    "# Update the new restaurant with the correct BusinessTypeID\n",
    "establishments.update_one({'BusinessName': 'Penang Flavours'}, {'$set': {'BusinessTypeID': 1}})"
   ],
   "metadata": {
    "collapsed": false,
    "ExecuteTime": {
     "start_time": "2023-08-21T18:16:39.748953Z",
     "end_time": "2023-08-21T18:16:39.789991Z"
    }
   }
  },
  {
   "cell_type": "code",
   "execution_count": 17,
   "outputs": [
    {
     "name": "stdout",
     "output_type": "stream",
     "text": [
      "{'AddressLine1': 'Penang Flavours',\n",
      " 'AddressLine2': '146A Plumstead Rd',\n",
      " 'AddressLine3': 'London',\n",
      " 'AddressLine4': '',\n",
      " 'BusinessName': 'Penang Flavours',\n",
      " 'BusinessType': 'Restaurant/Cafe/Canteen',\n",
      " 'BusinessTypeID': 1,\n",
      " 'Distance': 4623.972328074718,\n",
      " 'LocalAuthorityCode': '511',\n",
      " 'LocalAuthorityEmailAddress': 'health@royalgreenwich.gov.uk',\n",
      " 'LocalAuthorityName': 'Greenwich',\n",
      " 'LocalAuthorityWebSite': 'http://www.royalgreenwich.gov.uk',\n",
      " 'NewRatingPending': True,\n",
      " 'Phone': '',\n",
      " 'PostCode': 'SE18 7DY',\n",
      " 'RightToReply': '',\n",
      " 'SchemeType': 'FHRS',\n",
      " '_id': ObjectId('64e3f03c4f717505e5afde51'),\n",
      " 'geocode': {'latitude': '51.49014200', 'longitude': '0.08384000'},\n",
      " 'scores': {'ConfidenceInManagement': '', 'Hygiene': '', 'Structural': ''}}\n"
     ]
    }
   ],
   "source": [
    "# Confirm that the new restaurant was updated\n",
    "query = {'BusinessName': 'Penang Flavours'}\n",
    "results = db.establishments.find(query)\n",
    "for result in results:\n",
    "    pprint(result)"
   ],
   "metadata": {
    "collapsed": false,
    "ExecuteTime": {
     "start_time": "2023-08-21T18:16:46.242157Z",
     "end_time": "2023-08-21T18:16:46.278190Z"
    }
   }
  },
  {
   "cell_type": "code",
   "execution_count": 18,
   "outputs": [
    {
     "name": "stdout",
     "output_type": "stream",
     "text": [
      "(994, 28)\n"
     ]
    },
    {
     "data": {
      "text/plain": "                        _id   FHRSID  ChangesByServerID  \\\n0  64e3efc41e5c6c276a5f67eb   254719                  0   \n1  64e3efc41e5c6c276a5f67ec  1034540                  0   \n2  64e3efc41e5c6c276a5f67ed   254250                  0   \n3  64e3efc41e5c6c276a5f67ee   551803                  0   \n4  64e3efc41e5c6c276a5f67ef   632212                  0   \n\n  LocalAuthorityBusinessID        BusinessName  \\\n0             PI/000069980   Refreshment Kiosk   \n1             PI/000078691  The Coastguard Inn   \n2             PI/000066174     The Pines Calyx   \n3             PI/000070948        The Tea Room   \n4             PI/000043474         Lenox House   \n\n                        BusinessType  BusinessTypeID       AddressLine1  \\\n0            Restaurant/Cafe/Canteen               1            The Bay   \n1                  Pub/bar/nightclub            7843            The Bay   \n2            Other catering premises            7841   The Pines Garden   \n3            Restaurant/Cafe/Canteen               1   The Pines Garden   \n4  Hotel/bed & breakfast/guest house            7842  27 Granville Road   \n\n       AddressLine2      AddressLine3  ...     LocalAuthorityWebSite  \\\n0  St Margarets Bay              Kent  ...  http://www.dover.gov.uk/   \n1  St Margarets Bay              Kent  ...  http://www.dover.gov.uk/   \n2        Beach Road  St Margarets Bay  ...  http://www.dover.gov.uk/   \n3        Beach Road  St Margarets Bay  ...  http://www.dover.gov.uk/   \n4  St Margarets Bay              Kent  ...  http://www.dover.gov.uk/   \n\n      LocalAuthorityEmailAddress  \\\n0  publicprotection@dover.gov.uk   \n1  publicprotection@dover.gov.uk   \n2  publicprotection@dover.gov.uk   \n3  publicprotection@dover.gov.uk   \n4  publicprotection@dover.gov.uk   \n\n                                              scores SchemeType  \\\n0  {'Hygiene': 0, 'Structural': 5, 'ConfidenceInM...       FHRS   \n1  {'Hygiene': 0, 'Structural': 5, 'ConfidenceInM...       FHRS   \n2  {'Hygiene': 0, 'Structural': 0, 'ConfidenceInM...       FHRS   \n3  {'Hygiene': 0, 'Structural': 0, 'ConfidenceInM...       FHRS   \n4  {'Hygiene': 0, 'Structural': 0, 'ConfidenceInM...       FHRS   \n\n                                             geocode RightToReply  \\\n0  {'longitude': '1.387974', 'latitude': '51.1522...                \n1  {'longitude': '1.387974', 'latitude': '51.1522...                \n2  {'longitude': '1.383298', 'latitude': '51.1481...                \n3  {'longitude': '1.383298', 'latitude': '51.1481...                \n4  {'longitude': '1.385585', 'latitude': '51.1524...                \n\n      Distance NewRatingPending  \\\n0  4587.347175            False   \n1  4587.347175            False   \n2  4587.362403            False   \n3  4587.362403            False   \n4  4587.440907            False   \n\n                                                meta  \\\n0  {'dataSource': None, 'extractDate': '0001-01-0...   \n1  {'dataSource': None, 'extractDate': '0001-01-0...   \n2  {'dataSource': None, 'extractDate': '0001-01-0...   \n3  {'dataSource': None, 'extractDate': '0001-01-0...   \n4  {'dataSource': None, 'extractDate': '0001-01-0...   \n\n                                               links  \n0  [{'rel': 'self', 'href': 'https://api.ratings....  \n1  [{'rel': 'self', 'href': 'https://api.ratings....  \n2  [{'rel': 'self', 'href': 'https://api.ratings....  \n3  [{'rel': 'self', 'href': 'https://api.ratings....  \n4  [{'rel': 'self', 'href': 'https://api.ratings....  \n\n[5 rows x 28 columns]",
      "text/html": "<div>\n<style scoped>\n    .dataframe tbody tr th:only-of-type {\n        vertical-align: middle;\n    }\n\n    .dataframe tbody tr th {\n        vertical-align: top;\n    }\n\n    .dataframe thead th {\n        text-align: right;\n    }\n</style>\n<table border=\"1\" class=\"dataframe\">\n  <thead>\n    <tr style=\"text-align: right;\">\n      <th></th>\n      <th>_id</th>\n      <th>FHRSID</th>\n      <th>ChangesByServerID</th>\n      <th>LocalAuthorityBusinessID</th>\n      <th>BusinessName</th>\n      <th>BusinessType</th>\n      <th>BusinessTypeID</th>\n      <th>AddressLine1</th>\n      <th>AddressLine2</th>\n      <th>AddressLine3</th>\n      <th>...</th>\n      <th>LocalAuthorityWebSite</th>\n      <th>LocalAuthorityEmailAddress</th>\n      <th>scores</th>\n      <th>SchemeType</th>\n      <th>geocode</th>\n      <th>RightToReply</th>\n      <th>Distance</th>\n      <th>NewRatingPending</th>\n      <th>meta</th>\n      <th>links</th>\n    </tr>\n  </thead>\n  <tbody>\n    <tr>\n      <th>0</th>\n      <td>64e3efc41e5c6c276a5f67eb</td>\n      <td>254719</td>\n      <td>0</td>\n      <td>PI/000069980</td>\n      <td>Refreshment Kiosk</td>\n      <td>Restaurant/Cafe/Canteen</td>\n      <td>1</td>\n      <td>The Bay</td>\n      <td>St Margarets Bay</td>\n      <td>Kent</td>\n      <td>...</td>\n      <td>http://www.dover.gov.uk/</td>\n      <td>publicprotection@dover.gov.uk</td>\n      <td>{'Hygiene': 0, 'Structural': 5, 'ConfidenceInM...</td>\n      <td>FHRS</td>\n      <td>{'longitude': '1.387974', 'latitude': '51.1522...</td>\n      <td></td>\n      <td>4587.347175</td>\n      <td>False</td>\n      <td>{'dataSource': None, 'extractDate': '0001-01-0...</td>\n      <td>[{'rel': 'self', 'href': 'https://api.ratings....</td>\n    </tr>\n    <tr>\n      <th>1</th>\n      <td>64e3efc41e5c6c276a5f67ec</td>\n      <td>1034540</td>\n      <td>0</td>\n      <td>PI/000078691</td>\n      <td>The Coastguard Inn</td>\n      <td>Pub/bar/nightclub</td>\n      <td>7843</td>\n      <td>The Bay</td>\n      <td>St Margarets Bay</td>\n      <td>Kent</td>\n      <td>...</td>\n      <td>http://www.dover.gov.uk/</td>\n      <td>publicprotection@dover.gov.uk</td>\n      <td>{'Hygiene': 0, 'Structural': 5, 'ConfidenceInM...</td>\n      <td>FHRS</td>\n      <td>{'longitude': '1.387974', 'latitude': '51.1522...</td>\n      <td></td>\n      <td>4587.347175</td>\n      <td>False</td>\n      <td>{'dataSource': None, 'extractDate': '0001-01-0...</td>\n      <td>[{'rel': 'self', 'href': 'https://api.ratings....</td>\n    </tr>\n    <tr>\n      <th>2</th>\n      <td>64e3efc41e5c6c276a5f67ed</td>\n      <td>254250</td>\n      <td>0</td>\n      <td>PI/000066174</td>\n      <td>The Pines Calyx</td>\n      <td>Other catering premises</td>\n      <td>7841</td>\n      <td>The Pines Garden</td>\n      <td>Beach Road</td>\n      <td>St Margarets Bay</td>\n      <td>...</td>\n      <td>http://www.dover.gov.uk/</td>\n      <td>publicprotection@dover.gov.uk</td>\n      <td>{'Hygiene': 0, 'Structural': 0, 'ConfidenceInM...</td>\n      <td>FHRS</td>\n      <td>{'longitude': '1.383298', 'latitude': '51.1481...</td>\n      <td></td>\n      <td>4587.362403</td>\n      <td>False</td>\n      <td>{'dataSource': None, 'extractDate': '0001-01-0...</td>\n      <td>[{'rel': 'self', 'href': 'https://api.ratings....</td>\n    </tr>\n    <tr>\n      <th>3</th>\n      <td>64e3efc41e5c6c276a5f67ee</td>\n      <td>551803</td>\n      <td>0</td>\n      <td>PI/000070948</td>\n      <td>The Tea Room</td>\n      <td>Restaurant/Cafe/Canteen</td>\n      <td>1</td>\n      <td>The Pines Garden</td>\n      <td>Beach Road</td>\n      <td>St Margarets Bay</td>\n      <td>...</td>\n      <td>http://www.dover.gov.uk/</td>\n      <td>publicprotection@dover.gov.uk</td>\n      <td>{'Hygiene': 0, 'Structural': 0, 'ConfidenceInM...</td>\n      <td>FHRS</td>\n      <td>{'longitude': '1.383298', 'latitude': '51.1481...</td>\n      <td></td>\n      <td>4587.362403</td>\n      <td>False</td>\n      <td>{'dataSource': None, 'extractDate': '0001-01-0...</td>\n      <td>[{'rel': 'self', 'href': 'https://api.ratings....</td>\n    </tr>\n    <tr>\n      <th>4</th>\n      <td>64e3efc41e5c6c276a5f67ef</td>\n      <td>632212</td>\n      <td>0</td>\n      <td>PI/000043474</td>\n      <td>Lenox House</td>\n      <td>Hotel/bed &amp; breakfast/guest house</td>\n      <td>7842</td>\n      <td>27 Granville Road</td>\n      <td>St Margarets Bay</td>\n      <td>Kent</td>\n      <td>...</td>\n      <td>http://www.dover.gov.uk/</td>\n      <td>publicprotection@dover.gov.uk</td>\n      <td>{'Hygiene': 0, 'Structural': 0, 'ConfidenceInM...</td>\n      <td>FHRS</td>\n      <td>{'longitude': '1.385585', 'latitude': '51.1524...</td>\n      <td></td>\n      <td>4587.440907</td>\n      <td>False</td>\n      <td>{'dataSource': None, 'extractDate': '0001-01-0...</td>\n      <td>[{'rel': 'self', 'href': 'https://api.ratings....</td>\n    </tr>\n  </tbody>\n</table>\n<p>5 rows × 28 columns</p>\n</div>"
     },
     "execution_count": 18,
     "metadata": {},
     "output_type": "execute_result"
    }
   ],
   "source": [
    "# 4. The magazine is not interested in any establishments in Dover, so check how many documents contain the Dover Local Authority. Then, remove any establishments within the Dover Local Authority from the database, and check the number of documents to ensure they were deleted.\n",
    "\n",
    "# Find how many documents have LocalAuthorityName as \"Dover\"\n",
    "query = {\"LocalAuthorityName\": \"Dover\"}\n",
    "\n",
    "# Cast the results as a list and save the results to a variable\n",
    "data = establishments.find(query)\n",
    "\n",
    "# Pretty print the results\n",
    "df = pd.DataFrame(data)\n",
    "print(df.shape)\n",
    "df.head()"
   ],
   "metadata": {
    "collapsed": false,
    "ExecuteTime": {
     "start_time": "2023-08-21T18:17:15.976154Z",
     "end_time": "2023-08-21T18:17:16.043215Z"
    }
   }
  },
  {
   "cell_type": "code",
   "execution_count": 19,
   "outputs": [
    {
     "data": {
      "text/plain": "<pymongo.results.DeleteResult at 0x1ec1238ffd0>"
     },
     "execution_count": 19,
     "metadata": {},
     "output_type": "execute_result"
    }
   ],
   "source": [
    "# Delete all documents where LocalAuthorityName is \"Dover\"\n",
    "query = {\"LocalAuthorityName\": \"Dover\"}\n",
    "establishments.delete_many(query)"
   ],
   "metadata": {
    "collapsed": false,
    "ExecuteTime": {
     "start_time": "2023-08-21T18:17:36.250479Z",
     "end_time": "2023-08-21T18:17:36.291517Z"
    }
   }
  },
  {
   "cell_type": "code",
   "execution_count": 20,
   "outputs": [],
   "source": [
    "# Check if any remaining documents include Dover\n",
    "results = establishments.find(query)\n",
    "\n",
    "for result in results:\n",
    "    print(result)"
   ],
   "metadata": {
    "collapsed": false,
    "ExecuteTime": {
     "start_time": "2023-08-21T18:17:46.378696Z",
     "end_time": "2023-08-21T18:17:46.403719Z"
    }
   }
  },
  {
   "cell_type": "code",
   "execution_count": 21,
   "outputs": [
    {
     "data": {
      "text/plain": "{'_id': ObjectId('64e3efc41e5c6c276a5f6ad2'),\n 'FHRSID': 1043695,\n 'ChangesByServerID': 0,\n 'LocalAuthorityBusinessID': 'PI/000073616',\n 'BusinessName': 'The Pavilion',\n 'BusinessType': 'Restaurant/Cafe/Canteen',\n 'BusinessTypeID': 1,\n 'AddressLine1': 'East Cliff Pavilion',\n 'AddressLine2': 'Wear Bay Road',\n 'AddressLine3': 'Folkestone',\n 'AddressLine4': 'Kent',\n 'PostCode': 'CT19 6BL',\n 'Phone': '',\n 'RatingValue': '5',\n 'RatingKey': 'fhrs_5_en-gb',\n 'RatingDate': '2018-04-04T00:00:00',\n 'LocalAuthorityCode': '188',\n 'LocalAuthorityName': 'Folkestone and Hythe',\n 'LocalAuthorityWebSite': 'http://www.folkestone-hythe.gov.uk',\n 'LocalAuthorityEmailAddress': 'foodteam@folkestone-hythe.gov.uk',\n 'scores': {'Hygiene': 5, 'Structural': 5, 'ConfidenceInManagement': 5},\n 'SchemeType': 'FHRS',\n 'geocode': {'longitude': '1.195625', 'latitude': '51.083812'},\n 'RightToReply': '',\n 'Distance': 4591.765489457773,\n 'NewRatingPending': False,\n 'meta': {'dataSource': None,\n  'extractDate': '0001-01-01T00:00:00',\n  'itemCount': 0,\n  'returncode': None,\n  'totalCount': 0,\n  'totalPages': 0,\n  'pageSize': 0,\n  'pageNumber': 0},\n 'links': [{'rel': 'self',\n   'href': 'https://api.ratings.food.gov.uk/establishments/1043695'}]}"
     },
     "execution_count": 21,
     "metadata": {},
     "output_type": "execute_result"
    }
   ],
   "source": [
    "# Check that other documents remain with 'find_one'\n",
    "establishments.find_one()"
   ],
   "metadata": {
    "collapsed": false,
    "ExecuteTime": {
     "start_time": "2023-08-21T18:17:54.099263Z",
     "end_time": "2023-08-21T18:17:54.132292Z"
    }
   }
  },
  {
   "cell_type": "code",
   "execution_count": 22,
   "outputs": [
    {
     "data": {
      "text/plain": "{'_id': ObjectId('64e3efc41e5c6c276a5f6ad2'),\n 'FHRSID': 1043695,\n 'ChangesByServerID': 0,\n 'LocalAuthorityBusinessID': 'PI/000073616',\n 'BusinessName': 'The Pavilion',\n 'BusinessType': 'Restaurant/Cafe/Canteen',\n 'BusinessTypeID': 1,\n 'AddressLine1': 'East Cliff Pavilion',\n 'AddressLine2': 'Wear Bay Road',\n 'AddressLine3': 'Folkestone',\n 'AddressLine4': 'Kent',\n 'PostCode': 'CT19 6BL',\n 'Phone': '',\n 'RatingValue': '5',\n 'RatingKey': 'fhrs_5_en-gb',\n 'RatingDate': '2018-04-04T00:00:00',\n 'LocalAuthorityCode': '188',\n 'LocalAuthorityName': 'Folkestone and Hythe',\n 'LocalAuthorityWebSite': 'http://www.folkestone-hythe.gov.uk',\n 'LocalAuthorityEmailAddress': 'foodteam@folkestone-hythe.gov.uk',\n 'scores': {'Hygiene': 5, 'Structural': 5, 'ConfidenceInManagement': 5},\n 'SchemeType': 'FHRS',\n 'geocode': {'longitude': 1.195625, 'latitude': 51.083812},\n 'RightToReply': '',\n 'Distance': 4591.765489457773,\n 'NewRatingPending': False,\n 'meta': {'dataSource': None,\n  'extractDate': '0001-01-01T00:00:00',\n  'itemCount': 0,\n  'returncode': None,\n  'totalCount': 0,\n  'totalPages': 0,\n  'pageSize': 0,\n  'pageNumber': 0},\n 'links': [{'rel': 'self',\n   'href': 'https://api.ratings.food.gov.uk/establishments/1043695'}]}"
     },
     "execution_count": 22,
     "metadata": {},
     "output_type": "execute_result"
    }
   ],
   "source": [
    "# 5. Some of the number values are stored as strings, when they should be stored as numbers.\n",
    "\n",
    "# Change the data type from String to Decimal for longitude and latitude\n",
    "establishments.update_many({}, [ {'$set': { \"geocode.longitude\" : {'$toDouble': \"$geocode.longitude\"},\n",
    "                                               \"geocode.latitude\" : {'$toDouble': \"$geocode.latitude\"}}}])\n",
    "\n",
    "establishments.find_one()"
   ],
   "metadata": {
    "collapsed": false,
    "ExecuteTime": {
     "start_time": "2023-08-21T18:18:13.334521Z",
     "end_time": "2023-08-21T18:18:14.261365Z"
    }
   }
  },
  {
   "cell_type": "code",
   "execution_count": 23,
   "outputs": [
    {
     "data": {
      "text/plain": "<pymongo.results.UpdateResult at 0x1ec0d4a7370>"
     },
     "execution_count": 23,
     "metadata": {},
     "output_type": "execute_result"
    }
   ],
   "source": [
    "# Set non 1-5 Rating Values to Null\n",
    "non_ratings = [\"AwaitingInspection\", \"Awaiting Inspection\", \"AwaitingPublication\", \"Pass\", \"Exempt\"]\n",
    "establishments.update_many({\"RatingValue\": {\"$in\": non_ratings}}, [ {'$set':{ \"RatingValue\" : None}} ])"
   ],
   "metadata": {
    "collapsed": false,
    "ExecuteTime": {
     "start_time": "2023-08-21T18:18:26.974253Z",
     "end_time": "2023-08-21T18:18:27.094364Z"
    }
   }
  },
  {
   "cell_type": "code",
   "execution_count": 24,
   "outputs": [
    {
     "data": {
      "text/plain": "<pymongo.results.UpdateResult at 0x1ec1238c040>"
     },
     "execution_count": 24,
     "metadata": {},
     "output_type": "execute_result"
    }
   ],
   "source": [
    "# Change the data type from String to Integer for RatingValue\n",
    "establishments.update_many({}, [ {'$set': { \"RatingValue\" : {'$toInt': \"$RatingValue\"}}}])"
   ],
   "metadata": {
    "collapsed": false,
    "ExecuteTime": {
     "start_time": "2023-08-21T18:18:34.421580Z",
     "end_time": "2023-08-21T18:18:35.234319Z"
    }
   }
  },
  {
   "cell_type": "code",
   "execution_count": 25,
   "outputs": [
    {
     "data": {
      "text/plain": "{'_id': ObjectId('64e3efc41e5c6c276a5f6ad2'),\n 'FHRSID': 1043695,\n 'ChangesByServerID': 0,\n 'LocalAuthorityBusinessID': 'PI/000073616',\n 'BusinessName': 'The Pavilion',\n 'BusinessType': 'Restaurant/Cafe/Canteen',\n 'BusinessTypeID': 1,\n 'AddressLine1': 'East Cliff Pavilion',\n 'AddressLine2': 'Wear Bay Road',\n 'AddressLine3': 'Folkestone',\n 'AddressLine4': 'Kent',\n 'PostCode': 'CT19 6BL',\n 'Phone': '',\n 'RatingValue': 5,\n 'RatingKey': 'fhrs_5_en-gb',\n 'RatingDate': '2018-04-04T00:00:00',\n 'LocalAuthorityCode': '188',\n 'LocalAuthorityName': 'Folkestone and Hythe',\n 'LocalAuthorityWebSite': 'http://www.folkestone-hythe.gov.uk',\n 'LocalAuthorityEmailAddress': 'foodteam@folkestone-hythe.gov.uk',\n 'scores': {'Hygiene': 5, 'Structural': 5, 'ConfidenceInManagement': 5},\n 'SchemeType': 'FHRS',\n 'geocode': {'longitude': 1.195625, 'latitude': 51.083812},\n 'RightToReply': '',\n 'Distance': 4591.765489457773,\n 'NewRatingPending': False,\n 'meta': {'dataSource': None,\n  'extractDate': '0001-01-01T00:00:00',\n  'itemCount': 0,\n  'returncode': None,\n  'totalCount': 0,\n  'totalPages': 0,\n  'pageSize': 0,\n  'pageNumber': 0},\n 'links': [{'rel': 'self',\n   'href': 'https://api.ratings.food.gov.uk/establishments/1043695'}]}"
     },
     "execution_count": 25,
     "metadata": {},
     "output_type": "execute_result"
    }
   ],
   "source": [
    "# Check that the coordinates and rating value are now numbers\n",
    "establishments.find_one()"
   ],
   "metadata": {
    "collapsed": false,
    "ExecuteTime": {
     "start_time": "2023-08-21T18:18:42.464478Z",
     "end_time": "2023-08-21T18:18:42.474487Z"
    }
   }
  },
  {
   "cell_type": "code",
   "execution_count": null,
   "outputs": [],
   "source": [],
   "metadata": {
    "collapsed": false
   }
  }
 ],
 "metadata": {
  "kernelspec": {
   "display_name": "Python 3",
   "language": "python",
   "name": "python3"
  },
  "language_info": {
   "codemirror_mode": {
    "name": "ipython",
    "version": 2
   },
   "file_extension": ".py",
   "mimetype": "text/x-python",
   "name": "python",
   "nbconvert_exporter": "python",
   "pygments_lexer": "ipython2",
   "version": "2.7.6"
  }
 },
 "nbformat": 4,
 "nbformat_minor": 0
}
